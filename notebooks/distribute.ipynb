{
 "cells": [
  {
   "cell_type": "markdown",
   "metadata": {},
   "source": [
    "## Test Distribution of Package to PyPi"
   ]
  },
  {
   "cell_type": "code",
   "execution_count": null,
   "metadata": {},
   "outputs": [],
   "source": [
    "cd ../"
   ]
  },
  {
   "cell_type": "code",
   "execution_count": 1,
   "metadata": {},
   "outputs": [
    {
     "name": "stdout",
     "output_type": "stream",
     "text": [
      "running sdist\n",
      "running egg_info\n",
      "writing diva_dna_seq.egg-info/PKG-INFO\n",
      "writing dependency_links to diva_dna_seq.egg-info/dependency_links.txt\n",
      "writing entry points to diva_dna_seq.egg-info/entry_points.txt\n",
      "writing requirements to diva_dna_seq.egg-info/requires.txt\n",
      "writing top-level names to diva_dna_seq.egg-info/top_level.txt\n",
      "reading manifest file 'diva_dna_seq.egg-info/SOURCES.txt'\n",
      "reading manifest template 'MANIFEST.in'\n",
      "writing manifest file 'diva_dna_seq.egg-info/SOURCES.txt'\n",
      "running check\n",
      "creating diva_dna_seq-0.2\n",
      "creating diva_dna_seq-0.2/diva_dna_seq\n",
      "creating diva_dna_seq-0.2/diva_dna_seq.egg-info\n",
      "creating diva_dna_seq-0.2/model\n",
      "copying files to diva_dna_seq-0.2...\n",
      "copying MANIFEST.in -> diva_dna_seq-0.2\n",
      "copying README.md -> diva_dna_seq-0.2\n",
      "copying setup.py -> diva_dna_seq-0.2\n",
      "copying diva_dna_seq/__init__.py -> diva_dna_seq-0.2/diva_dna_seq\n",
      "copying diva_dna_seq/predict_loading_concentration.py -> diva_dna_seq-0.2/diva_dna_seq\n",
      "copying diva_dna_seq/utility.py -> diva_dna_seq-0.2/diva_dna_seq\n",
      "copying diva_dna_seq.egg-info/PKG-INFO -> diva_dna_seq-0.2/diva_dna_seq.egg-info\n",
      "copying diva_dna_seq.egg-info/SOURCES.txt -> diva_dna_seq-0.2/diva_dna_seq.egg-info\n",
      "copying diva_dna_seq.egg-info/dependency_links.txt -> diva_dna_seq-0.2/diva_dna_seq.egg-info\n",
      "copying diva_dna_seq.egg-info/entry_points.txt -> diva_dna_seq-0.2/diva_dna_seq.egg-info\n",
      "copying diva_dna_seq.egg-info/not-zip-safe -> diva_dna_seq-0.2/diva_dna_seq.egg-info\n",
      "copying diva_dna_seq.egg-info/requires.txt -> diva_dna_seq-0.2/diva_dna_seq.egg-info\n",
      "copying diva_dna_seq.egg-info/top_level.txt -> diva_dna_seq-0.2/diva_dna_seq.egg-info\n",
      "copying model/model.pkl -> diva_dna_seq-0.2/model\n",
      "copying model/model30.pkl -> diva_dna_seq-0.2/model\n",
      "Writing diva_dna_seq-0.2/setup.cfg\n",
      "Creating tar archive\n",
      "removing 'diva_dna_seq-0.2' (and everything under it)\n",
      "running bdist_wheel\n",
      "running build\n",
      "running build_py\n",
      "creating build/lib\n",
      "creating build/lib/diva_dna_seq\n",
      "copying diva_dna_seq/predict_loading_concentration.py -> build/lib/diva_dna_seq\n",
      "copying diva_dna_seq/utility.py -> build/lib/diva_dna_seq\n",
      "copying diva_dna_seq/__init__.py -> build/lib/diva_dna_seq\n",
      "installing to build/bdist.macosx-10.13-x86_64/wheel\n",
      "running install\n",
      "running install_lib\n",
      "creating build/bdist.macosx-10.13-x86_64\n",
      "creating build/bdist.macosx-10.13-x86_64/wheel\n",
      "creating build/bdist.macosx-10.13-x86_64/wheel/diva_dna_seq\n",
      "copying build/lib/diva_dna_seq/predict_loading_concentration.py -> build/bdist.macosx-10.13-x86_64/wheel/diva_dna_seq\n",
      "copying build/lib/diva_dna_seq/utility.py -> build/bdist.macosx-10.13-x86_64/wheel/diva_dna_seq\n",
      "copying build/lib/diva_dna_seq/__init__.py -> build/bdist.macosx-10.13-x86_64/wheel/diva_dna_seq\n",
      "running install_egg_info\n",
      "Copying diva_dna_seq.egg-info to build/bdist.macosx-10.13-x86_64/wheel/diva_dna_seq-0.2-py3.7.egg-info\n",
      "running install_scripts\n",
      "adding license file \"LICENSE.txt\" (matched pattern \"LICEN[CS]E*\")\n",
      "creating build/bdist.macosx-10.13-x86_64/wheel/diva_dna_seq-0.2.dist-info/WHEEL\n",
      "creating 'dist/diva_dna_seq-0.2-py3-none-any.whl' and adding 'build/bdist.macosx-10.13-x86_64/wheel' to it\n",
      "adding 'diva_dna_seq/__init__.py'\n",
      "adding 'diva_dna_seq/predict_loading_concentration.py'\n",
      "adding 'diva_dna_seq/utility.py'\n",
      "adding 'diva_dna_seq-0.2.dist-info/LICENSE.txt'\n",
      "adding 'diva_dna_seq-0.2.dist-info/METADATA'\n",
      "adding 'diva_dna_seq-0.2.dist-info/WHEEL'\n",
      "adding 'diva_dna_seq-0.2.dist-info/entry_points.txt'\n",
      "adding 'diva_dna_seq-0.2.dist-info/top_level.txt'\n",
      "adding 'diva_dna_seq-0.2.dist-info/RECORD'\n",
      "removing build/bdist.macosx-10.13-x86_64/wheel\n"
     ]
    }
   ],
   "source": [
    "#Build\n",
    "!python3 setup.py sdist bdist_wheel"
   ]
  },
  {
   "cell_type": "code",
   "execution_count": 2,
   "metadata": {},
   "outputs": [
    {
     "name": "stdout",
     "output_type": "stream",
     "text": [
      "Enter your username: ^C\n",
      "Traceback (most recent call last):\n",
      "  File \"/usr/local/bin/twine\", line 11, in <module>\n",
      "    sys.exit(main())\n",
      "  File \"/usr/local/lib/python3.7/site-packages/twine/__main__.py\", line 28, in main\n",
      "    return dispatch(sys.argv[1:])\n",
      "  File \"/usr/local/lib/python3.7/site-packages/twine/cli.py\", line 75, in dispatch\n",
      "    return main(args.args)\n",
      "  File \"/usr/local/lib/python3.7/site-packages/twine/commands/upload.py\", line 122, in main\n",
      "    upload_settings = settings.Settings.from_argparse(args)\n",
      "  File \"/usr/local/lib/python3.7/site-packages/twine/settings.py\", line 216, in from_argparse\n",
      "    return cls(**settings)\n",
      "  File \"/usr/local/lib/python3.7/site-packages/twine/utils.py\", line 296, in wrapper\n",
      "    return function(*args, **kwargs)\n",
      "  File \"/usr/local/lib/python3.7/site-packages/twine/settings.py\", line 111, in __init__\n",
      "    self._handle_authentication(username, password)\n",
      "  File \"/usr/local/lib/python3.7/site-packages/twine/settings.py\", line 238, in _handle_authentication\n",
      "    self.username = utils.get_username(username, self.repository_config)\n",
      "  File \"/usr/local/lib/python3.7/site-packages/twine/utils.py\", line 196, in get_userpass_value\n",
      "    return prompt_strategy()\n",
      "KeyboardInterrupt\n"
     ]
    }
   ],
   "source": [
    "#Upload to PyPi test server\n",
    "!twine upload --repository-url https://pypi.org/ dist/*"
   ]
  },
  {
   "cell_type": "code",
   "execution_count": 3,
   "metadata": {},
   "outputs": [],
   "source": [
    "#Test Package"
   ]
  },
  {
   "cell_type": "code",
   "execution_count": 4,
   "metadata": {},
   "outputs": [],
   "source": [
    "#Uninstall"
   ]
  },
  {
   "cell_type": "code",
   "execution_count": 5,
   "metadata": {},
   "outputs": [],
   "source": [
    "#Upload to PyPi"
   ]
  },
  {
   "cell_type": "code",
   "execution_count": 6,
   "metadata": {},
   "outputs": [],
   "source": [
    "#Install from PyPi"
   ]
  },
  {
   "cell_type": "code",
   "execution_count": 7,
   "metadata": {},
   "outputs": [],
   "source": [
    "#Test Package"
   ]
  },
  {
   "cell_type": "code",
   "execution_count": 8,
   "metadata": {},
   "outputs": [],
   "source": [
    "#Uninstall"
   ]
  }
 ],
 "metadata": {
  "kernelspec": {
   "display_name": "Python 3",
   "language": "python",
   "name": "python3"
  },
  "language_info": {
   "codemirror_mode": {
    "name": "ipython",
    "version": 3
   },
   "file_extension": ".py",
   "mimetype": "text/x-python",
   "name": "python",
   "nbconvert_exporter": "python",
   "pygments_lexer": "ipython3",
   "version": "3.7.0"
  }
 },
 "nbformat": 4,
 "nbformat_minor": 2
}
